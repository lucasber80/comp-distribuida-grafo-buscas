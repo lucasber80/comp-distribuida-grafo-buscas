{
 "cells": [
  {
   "cell_type": "code",
   "execution_count": 520,
   "metadata": {},
   "outputs": [],
   "source": [
    "import networkx as nx\n",
    "import matplotlib.pyplot as plt\n",
    "import random"
   ]
  },
  {
   "cell_type": "code",
   "execution_count": 521,
   "metadata": {},
   "outputs": [
    {
     "name": "stdout",
     "output_type": "stream",
     "text": [
      "num_nodes: 6\n",
      "min_neighbors: 1\n",
      "max_neighbors: 3\n",
      "resources: {'n1': ['r1', 'r2', 'r3'], 'n2': ['r4', 'r5'], 'n3': ['r6', 'r7'], 'n4': ['r8'], 'n5': ['r9'], 'n6': ['r10']}\n",
      "edges: [['n1', 'n2'], ['n1', 'n3'], ['n2', 'n4'], ['n3', 'n4'], ['n4', 'n5'], ['n4', 'n6'], ['n5', 'n2'], ['n6', 'n3']]\n"
     ]
    }
   ],
   "source": [
    "# Definir as variáveis iniciais\n",
    "num_nodes = 0\n",
    "min_neighbors = 0\n",
    "max_neighbors = 0\n",
    "resources = {}\n",
    "edges = []\n",
    "\n",
    "\n",
    "# Abrir o arquivo de entrada\n",
    "with open(\"entrada.txt\", \"r\") as arquivo:\n",
    "    # Ler cada linha do arquivo\n",
    "    achou_resources = False\n",
    "    achou_edges = False\n",
    "    for linha in arquivo:\n",
    "        # Remover espaços em branco no início e no final da linha\n",
    "        linha = linha.strip()\n",
    "        # Verificar se a linha não está vazia\n",
    "        if linha:\n",
    "           if('num_nodes:' in linha):\n",
    "                num_nodes = int(linha.split(':')[1])\n",
    "           if('min_neighbors:' in linha):\n",
    "                min_neighbors = int(linha.split(':')[1])\n",
    "           if('max_neighbors:' in linha):\n",
    "                max_neighbors = int(linha.split(':')[1])\n",
    "           if(achou_resources and 'edges' not in linha):\n",
    "                chave = linha.split(\":\")[0]\n",
    "                valor = linha.split(\":\")[1].replace(\" \",\"\").split(\",\")\n",
    "                resources[chave]=valor\n",
    "           if(achou_edges and 'resources' not in linha):\n",
    "                values = linha.replace(\" \",\"\").split(\",\")\n",
    "                edges.append(values)\n",
    "           if('resources:' in linha):\n",
    "                achou_resources = True\n",
    "                achou_edges = False\n",
    "           if('edges:' in linha):\n",
    "               achou_resources = False\n",
    "               achou_edges = True\n",
    "           \n",
    "\n",
    "\n",
    "\n",
    "            \n",
    "  \n",
    "          \n",
    "\n",
    "# Imprimir as variáveis lidas do arquivo\n",
    "print(\"num_nodes:\", num_nodes)\n",
    "print(\"min_neighbors:\", min_neighbors)\n",
    "print(\"max_neighbors:\", max_neighbors)\n",
    "print(\"resources:\", resources)\n",
    "print(\"edges:\", edges)\n"
   ]
  },
  {
   "cell_type": "code",
   "execution_count": 522,
   "metadata": {},
   "outputs": [
    {
     "data": {
      "image/png": "[encoded data removed]",
      "text/plain": [
       "<Figure size 640x480 with 1 Axes>"
      ]
     },
     "metadata": {},
     "output_type": "display_data"
    }
   ],
   "source": [
    "\n",
    "# Criando um novo grafo direcionado\n",
    "grafo = nx.DiGraph()\n",
    "\n",
    "\n",
    "def criarGrafo():\n",
    "\n",
    "    for i in range(1, num_nodes + 1):\n",
    "        node_name = 'n{}'.format(i)\n",
    "        grafo.add_node(node_name,recursos=resources[node_name],msgs_recebida=[])\n",
    "\n",
    "    # Adicionando as arestas ao grafo\n",
    "    for edge in edges:\n",
    "        source = edge[0]\n",
    "        target = edge[1]\n",
    "        source2 = edge[1]\n",
    "        target2= edge[0]\n",
    "    \n",
    "        grafo.add_edge(source, target)\n",
    "        grafo.add_edge(source2, target2)\n",
    "\n",
    "criarGrafo()\n",
    "\n",
    "\n",
    "\n",
    "pos = nx.spring_layout(grafo, seed=42)\n",
    "node_labels = {node: f\"{', '.join(grafo.nodes[node]['recursos'])}\" for node in grafo.nodes()}\n",
    "nx.draw_networkx(grafo, pos, with_labels=True, node_color='lightblue', node_size=800, font_size=12, edge_color='gray')\n",
    "nx.draw_networkx_labels(grafo, pos, labels=node_labels, font_size=10, verticalalignment=\"bottom\")\n",
    "\n",
    "# Exibindo o gráfico\n",
    "plt.show()\n",
    "\n"
   ]
  },
  {
   "cell_type": "code",
   "execution_count": 523,
   "metadata": {},
   "outputs": [],
   "source": [
    "def mandar_msg(neighbors,recurso,node):\n",
    "    if(True):\n",
    "        for neighbor in neighbors:\n",
    "            msgs = grafo.nodes[neighbor]['msgs_recebida']\n",
    "            if(msgs):\n",
    "                print(msgs[-1])\n",
    "            msgs.append({node:recurso}) \n",
    "\n",
    "\n",
    "\n",
    "def flood_fill( start_node,recurso):\n",
    "    visited = []  # Conjunto para armazenar os nós visitados\n",
    "    stack = [start_node]  # Pilha para armazenar os nós a serem visitados\n",
    "    \n",
    "    achou = False\n",
    "    while stack:\n",
    "        node = stack.pop()  # Retira o último nó da pilha\n",
    "        achou = recurso in grafo.nodes[node]['recursos']\n",
    "        if node not in visited:\n",
    "            visited.append(node)\n",
    "            neighbors = list(grafo.neighbors(node))  # Obtém os vizinhos do nó atual\n",
    "            mandar_msg(neighbors,recurso,node)\n",
    "            for neighbor in neighbors:\n",
    "                if neighbor not in visited:\n",
    "                        stack.insert(0,neighbor)  # Adiciona os vizinhos não visitados na pilha\n",
    "        if(achou):  break\n",
    "    return visited\n",
    "\n",
    "\n",
    "def random_walk(start_node,ttl,recurso):\n",
    "    current_node = start_node\n",
    "    walk = [current_node]\n",
    "    achou = False\n",
    "\n",
    "    for _ in range(ttl):\n",
    "        neighbors = list(grafo.neighbors(current_node))\n",
    "        achou = recurso in grafo.nodes[current_node]['recursos']\n",
    "        mandar_msg(neighbors,recurso,current_node)\n",
    "        if len(neighbors) == 0 or achou:\n",
    "            break\n",
    "        next_node = random.choice(neighbors)\n",
    "        walk.append(next_node)\n",
    "        current_node = next_node\n",
    "\n",
    "    return walk\n",
    "    \n",
    "\n"
   ]
  },
  {
   "cell_type": "code",
   "execution_count": 524,
   "metadata": {},
   "outputs": [
    {
     "name": "stdout",
     "output_type": "stream",
     "text": [
      "{'n2': 'r10'}\n",
      "{'n2': 'r10'}\n",
      "{'n1': 'r10'}\n",
      "{'n1': 'r10'}\n",
      "{'n2': 'r10'}\n",
      "{'n3': 'r10'}\n",
      "{'n3': 'r10'}\n",
      "{'n4': 'r10'}\n",
      "{'n5': 'r10'}\n",
      "{'n4': 'r10'}\n"
     ]
    }
   ],
   "source": [
    "def busca(node_id,resource_id,ttl,algo):\n",
    "    criarGrafo()\n",
    "    if(algo == 'flooding'):\n",
    "        flood_fill(node_id,resource_id)\n",
    "    if(algo == 'random_walk'):\n",
    "        random_walk(node_id,ttl,resource_id)\n",
    "\n",
    "\n",
    "busca('n1','r10',4,'flooding')"
   ]
  },
  {
   "cell_type": "code",
   "execution_count": 525,
   "metadata": {},
   "outputs": [
    {
     "name": "stdout",
     "output_type": "stream",
     "text": [
      "n1: {'recursos': ['r1', 'r2', 'r3'], 'msgs_recebida': [{'n2': 'r10'}, {'n3': 'r10'}]}\n",
      "n2: {'recursos': ['r4', 'r5'], 'msgs_recebida': [{'n1': 'r10'}, {'n4': 'r10'}, {'n5': 'r10'}]}\n",
      "n3: {'recursos': ['r6', 'r7'], 'msgs_recebida': [{'n1': 'r10'}, {'n4': 'r10'}, {'n6': 'r10'}]}\n",
      "n4: {'recursos': ['r8'], 'msgs_recebida': [{'n2': 'r10'}, {'n3': 'r10'}, {'n5': 'r10'}, {'n6': 'r10'}]}\n",
      "n5: {'recursos': ['r9'], 'msgs_recebida': [{'n2': 'r10'}, {'n4': 'r10'}]}\n",
      "n6: {'recursos': ['r10'], 'msgs_recebida': [{'n3': 'r10'}, {'n4': 'r10'}]}\n"
     ]
    }
   ],
   "source": [
    "for node in grafo.nodes:\n",
    "    print(str(node) + \": \" + str(grafo.nodes[node]))"
   ]
  }
 ],
 "metadata": {
  "kernelspec": {
   "display_name": "Python 3",
   "language": "python",
   "name": "python3"
  },
  "language_info": {
   "codemirror_mode": {
    "name": "ipython",
    "version": 3
   },
   "file_extension": ".py",
   "mimetype": "text/x-python",
   "name": "python",
   "nbconvert_exporter": "python",
   "pygments_lexer": "ipython3",
   "version": "3.9.13"
  },
  "orig_nbformat": 4
 },
 "nbformat": 4,
 "nbformat_minor": 2
}

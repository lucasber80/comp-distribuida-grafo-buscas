{
 "cells": [
  {
   "cell_type": "code",
   "execution_count": 2,
   "metadata": {},
   "outputs": [],
   "source": [
    "import networkx as nx\n",
    "import matplotlib.pyplot as plt\n"
   ]
  },
  {
   "cell_type": "code",
   "execution_count": 3,
   "metadata": {},
   "outputs": [
    {
     "name": "stdout",
     "output_type": "stream",
     "text": [
      "num_nodes: 3\n",
      "min_neighbors: 1\n",
      "max_neighbors: 3\n",
      "resources: {'n1': ['r1', 'r2', 'r3'], 'n2': ['r4', 'r5'], 'n3': ['r6', 'r7']}\n",
      "edges: [['n1', 'n2'], ['n1', 'n3'], ['n2', 'n3']]\n"
     ]
    }
   ],
   "source": [
    "# Definir as variáveis iniciais\n",
    "num_nodes = 0\n",
    "min_neighbors = 0\n",
    "max_neighbors = 0\n",
    "resources = {}\n",
    "edges = []\n",
    "\n",
    "\n",
    "# Abrir o arquivo de entrada\n",
    "with open(\"entrada.txt\", \"r\") as arquivo:\n",
    "    # Ler cada linha do arquivo\n",
    "    achou_resources = False\n",
    "    achou_edges = False\n",
    "    for linha in arquivo:\n",
    "        # Remover espaços em branco no início e no final da linha\n",
    "        linha = linha.strip()\n",
    "        # Verificar se a linha não está vazia\n",
    "        if linha:\n",
    "           if('num_nodes:' in linha):\n",
    "                num_nodes = int(linha.split(':')[1])\n",
    "           if('min_neighbors:' in linha):\n",
    "                min_neighbors = int(linha.split(':')[1])\n",
    "           if('max_neighbors:' in linha):\n",
    "                max_neighbors = int(linha.split(':')[1])\n",
    "           if(achou_resources and 'edges' not in linha):\n",
    "                chave = linha.split(\":\")[0]\n",
    "                valor = linha.split(\":\")[1].replace(\" \",\"\").split(\",\")\n",
    "                resources[chave]=valor\n",
    "           if(achou_edges and 'resources' not in linha):\n",
    "                values = linha.replace(\" \",\"\").split(\",\")\n",
    "                edges.append(values)\n",
    "           if('resources:' in linha):\n",
    "                achou_resources = True\n",
    "                achou_edges = False\n",
    "           if('edges:' in linha):\n",
    "               achou_resources = False\n",
    "               achou_edges = True\n",
    "           \n",
    "\n",
    "\n",
    "\n",
    "            \n",
    "  \n",
    "          \n",
    "\n",
    "# Imprimir as variáveis lidas do arquivo\n",
    "print(\"num_nodes:\", num_nodes)\n",
    "print(\"min_neighbors:\", min_neighbors)\n",
    "print(\"max_neighbors:\", max_neighbors)\n",
    "print(\"resources:\", resources)\n",
    "print(\"edges:\", edges)\n"
   ]
  },
  {
   "cell_type": "code",
   "execution_count": 11,
   "metadata": {},
   "outputs": [
    {
     "data": {
      "image/png": "[encoded data removed]",
      "text/plain": [
       "<Figure size 640x480 with 1 Axes>"
      ]
     },
     "metadata": {},
     "output_type": "display_data"
    }
   ],
   "source": [
    "\n",
    "# Criando um novo grafo direcionado\n",
    "grafo = nx.DiGraph()\n",
    "\n",
    "\n",
    "# Adicionando os nós ao grafo\n",
    "for i in range(1, num_nodes + 1):\n",
    "    node_name = 'n{}'.format(i)\n",
    "    grafo.add_node(node_name,recursos=resources[node_name])\n",
    "\n",
    "# Adicionando as arestas ao grafo\n",
    "for edge in edges:\n",
    "    source = edge[0]\n",
    "    target = edge[1]\n",
    "    grafo.add_edge(source, target)\n",
    "\n",
    "\n",
    "\n",
    "\n",
    "pos = nx.spring_layout(grafo, seed=42)\n",
    "node_labels = {node: f\"{', '.join(grafo.nodes[node]['recursos'])}\" for node in grafo.nodes()}\n",
    "nx.draw_networkx(grafo, pos, with_labels=True, node_color='lightblue', node_size=800, font_size=12, edge_color='gray')\n",
    "nx.draw_networkx_labels(grafo, pos, labels=node_labels, font_size=10, verticalalignment=\"bottom\")\n",
    "\n",
    "# Exibindo o gráfico\n",
    "plt.show()\n",
    "\n"
   ]
  },
  {
   "cell_type": "code",
   "execution_count": 41,
   "metadata": {},
   "outputs": [
    {
     "name": "stdout",
     "output_type": "stream",
     "text": [
      "['r1', 'r2', 'r3']\n",
      "['r6', 'r7']\n",
      "['r4', 'r5']\n",
      "{'n1', 'n3', 'n2'}\n"
     ]
    }
   ],
   "source": [
    "def flood_fill(graph, start_node):\n",
    "    visited = set()  # Conjunto para armazenar os nós visitados\n",
    "    stack = [start_node]  # Pilha para armazenar os nós a serem visitados\n",
    "\n",
    "    while stack:\n",
    "        node = stack.pop()  # Retira o último nó da pilha\n",
    "        recursos = graph.nodes[node]['recursos']\n",
    "        print(recursos)\n",
    "        if node not in visited:\n",
    "            visited.add(node)\n",
    "            neighbors = list(graph.neighbors(node))  # Obtém os vizinhos do nó atual\n",
    "\n",
    "            for neighbor in neighbors:\n",
    "                if neighbor not in visited:\n",
    "                    stack.append(neighbor)  # Adiciona os vizinhos não visitados na pilha\n",
    "\n",
    "    return visited\n",
    "\n",
    "print(flood_fill(grafo,'n1'))"
   ]
  }
 ],
 "metadata": {
  "kernelspec": {
   "display_name": "Python 3",
   "language": "python",
   "name": "python3"
  },
  "language_info": {
   "codemirror_mode": {
    "name": "ipython",
    "version": 3
   },
   "file_extension": ".py",
   "mimetype": "text/x-python",
   "name": "python",
   "nbconvert_exporter": "python",
   "pygments_lexer": "ipython3",
   "version": "3.9.13"
  },
  "orig_nbformat": 4
 },
 "nbformat": 4,
 "nbformat_minor": 2
}
